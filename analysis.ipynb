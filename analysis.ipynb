{
 "cells": [
  {
   "cell_type": "markdown",
   "id": "32a2390a",
   "metadata": {},
   "source": [
    "# Import the Dataset"
   ]
  },
  {
   "cell_type": "code",
   "execution_count": null,
   "id": "2c46d855",
   "metadata": {},
   "outputs": [],
   "source": [
    "import pandas as pd\n",
    "\n",
    "\n",
    "# Load Heart Disease UCI Dataset\n",
    "# Source https://www.kaggle.com/datasets/navjotkaushal/heart-disease-uci-dataset\n",
    "def load_heart():\n",
    "    return pd.read_csv(\"Data/cleanned.csv\")\n",
    "\n",
    "\n",
    "heart = load_heart()"
   ]
  },
  {
   "cell_type": "markdown",
   "id": "cdebb670",
   "metadata": {},
   "source": [
    "# Inspect the Data"
   ]
  },
  {
   "cell_type": "markdown",
   "id": "52bc5d22",
   "metadata": {},
   "source": [
    "First rows"
   ]
  },
  {
   "cell_type": "code",
   "execution_count": null,
   "id": "fe0a4fde",
   "metadata": {},
   "outputs": [
    {
     "name": "stdout",
     "output_type": "stream",
     "text": [
      "Heart Data:\n",
      "   age     sex              cp  trestbps   chol    fbs         restecg  \\\n",
      "0   63    Male  typical angina     145.0  233.0   True  lv hypertrophy   \n",
      "1   67    Male    asymptomatic     160.0  286.0  False  lv hypertrophy   \n",
      "2   67    Male    asymptomatic     120.0  229.0  False  lv hypertrophy   \n",
      "3   37    Male     non-anginal     130.0  250.0  False          normal   \n",
      "4   41  Female  typical angina     130.0  204.0  False  lv hypertrophy   \n",
      "\n",
      "   thalch  exang  oldpeak  num  \n",
      "0   150.0  False      2.3    0  \n",
      "1   108.0   True      1.5    2  \n",
      "2   129.0   True      2.6    1  \n",
      "3   187.0  False      3.5    0  \n",
      "4   172.0  False      1.4    0  \n"
     ]
    }
   ],
   "source": [
    "print(\"Heart Data:\")\n",
    "print(heart.head())"
   ]
  },
  {
   "cell_type": "markdown",
   "id": "09637fb7",
   "metadata": {},
   "source": [
    "Data types and summary statistics"
   ]
  },
  {
   "cell_type": "code",
   "execution_count": 3,
   "id": "5ad36714",
   "metadata": {},
   "outputs": [
    {
     "name": "stdout",
     "output_type": "stream",
     "text": [
      "<class 'pandas.core.frame.DataFrame'>\n",
      "RangeIndex: 918 entries, 0 to 917\n",
      "Data columns (total 11 columns):\n",
      " #   Column    Non-Null Count  Dtype  \n",
      "---  ------    --------------  -----  \n",
      " 0   age       918 non-null    int64  \n",
      " 1   sex       918 non-null    object \n",
      " 2   cp        918 non-null    object \n",
      " 3   trestbps  918 non-null    float64\n",
      " 4   chol      918 non-null    float64\n",
      " 5   fbs       918 non-null    bool   \n",
      " 6   restecg   918 non-null    object \n",
      " 7   thalch    918 non-null    float64\n",
      " 8   exang     918 non-null    bool   \n",
      " 9   oldpeak   918 non-null    float64\n",
      " 10  num       918 non-null    int64  \n",
      "dtypes: bool(2), float64(4), int64(2), object(3)\n",
      "memory usage: 66.5+ KB\n"
     ]
    }
   ],
   "source": [
    "heart.info()"
   ]
  },
  {
   "cell_type": "code",
   "execution_count": null,
   "id": "4a47bda3",
   "metadata": {},
   "outputs": [
    {
     "data": {
      "application/vnd.microsoft.datawrangler.viewer.v0+json": {
       "columns": [
        {
         "name": "index",
         "rawType": "object",
         "type": "string"
        },
        {
         "name": "age",
         "rawType": "float64",
         "type": "float"
        },
        {
         "name": "trestbps",
         "rawType": "float64",
         "type": "float"
        },
        {
         "name": "chol",
         "rawType": "float64",
         "type": "float"
        },
        {
         "name": "thalch",
         "rawType": "float64",
         "type": "float"
        },
        {
         "name": "oldpeak",
         "rawType": "float64",
         "type": "float"
        },
        {
         "name": "num",
         "rawType": "float64",
         "type": "float"
        }
       ],
       "ref": "171b11d0-a8f9-4136-bf04-8f62bf5762ff",
       "rows": [
        [
         "count",
         "918.0",
         "918.0",
         "918.0",
         "918.0",
         "918.0",
         "918.0"
        ],
        [
         "mean",
         "53.510893246187365",
         "132.14161220043573",
         "199.86274509803923",
         "137.68954248366012",
         "0.855119825708061",
         "0.9956427015250545"
        ],
        [
         "std",
         "9.43261650673201",
         "17.9247059178066",
         "109.15452167878864",
         "25.153455302203707",
         "1.058450409915323",
         "1.1429851343026078"
        ],
        [
         "min",
         "28.0",
         "80.0",
         "0.0",
         "60.0",
         "-2.6",
         "0.0"
        ],
        [
         "25%",
         "47.0",
         "120.0",
         "177.25",
         "120.0",
         "0.0",
         "0.0"
        ],
        [
         "50%",
         "54.0",
         "130.0",
         "223.0",
         "140.0",
         "0.5",
         "1.0"
        ],
        [
         "75%",
         "60.0",
         "140.0",
         "267.0",
         "155.75",
         "1.5",
         "2.0"
        ],
        [
         "max",
         "77.0",
         "200.0",
         "603.0",
         "202.0",
         "6.2",
         "4.0"
        ]
       ],
       "shape": {
        "columns": 6,
        "rows": 8
       }
      },
      "text/html": [
       "<div>\n",
       "<style scoped>\n",
       "    .dataframe tbody tr th:only-of-type {\n",
       "        vertical-align: middle;\n",
       "    }\n",
       "\n",
       "    .dataframe tbody tr th {\n",
       "        vertical-align: top;\n",
       "    }\n",
       "\n",
       "    .dataframe thead th {\n",
       "        text-align: right;\n",
       "    }\n",
       "</style>\n",
       "<table border=\"1\" class=\"dataframe\">\n",
       "  <thead>\n",
       "    <tr style=\"text-align: right;\">\n",
       "      <th></th>\n",
       "      <th>age</th>\n",
       "      <th>trestbps</th>\n",
       "      <th>chol</th>\n",
       "      <th>thalch</th>\n",
       "      <th>oldpeak</th>\n",
       "      <th>num</th>\n",
       "    </tr>\n",
       "  </thead>\n",
       "  <tbody>\n",
       "    <tr>\n",
       "      <th>count</th>\n",
       "      <td>918.000000</td>\n",
       "      <td>918.000000</td>\n",
       "      <td>918.000000</td>\n",
       "      <td>918.000000</td>\n",
       "      <td>918.00000</td>\n",
       "      <td>918.000000</td>\n",
       "    </tr>\n",
       "    <tr>\n",
       "      <th>mean</th>\n",
       "      <td>53.510893</td>\n",
       "      <td>132.141612</td>\n",
       "      <td>199.862745</td>\n",
       "      <td>137.689542</td>\n",
       "      <td>0.85512</td>\n",
       "      <td>0.995643</td>\n",
       "    </tr>\n",
       "    <tr>\n",
       "      <th>std</th>\n",
       "      <td>9.432617</td>\n",
       "      <td>17.924706</td>\n",
       "      <td>109.154522</td>\n",
       "      <td>25.153455</td>\n",
       "      <td>1.05845</td>\n",
       "      <td>1.142985</td>\n",
       "    </tr>\n",
       "    <tr>\n",
       "      <th>min</th>\n",
       "      <td>28.000000</td>\n",
       "      <td>80.000000</td>\n",
       "      <td>0.000000</td>\n",
       "      <td>60.000000</td>\n",
       "      <td>-2.60000</td>\n",
       "      <td>0.000000</td>\n",
       "    </tr>\n",
       "    <tr>\n",
       "      <th>25%</th>\n",
       "      <td>47.000000</td>\n",
       "      <td>120.000000</td>\n",
       "      <td>177.250000</td>\n",
       "      <td>120.000000</td>\n",
       "      <td>0.00000</td>\n",
       "      <td>0.000000</td>\n",
       "    </tr>\n",
       "    <tr>\n",
       "      <th>50%</th>\n",
       "      <td>54.000000</td>\n",
       "      <td>130.000000</td>\n",
       "      <td>223.000000</td>\n",
       "      <td>140.000000</td>\n",
       "      <td>0.50000</td>\n",
       "      <td>1.000000</td>\n",
       "    </tr>\n",
       "    <tr>\n",
       "      <th>75%</th>\n",
       "      <td>60.000000</td>\n",
       "      <td>140.000000</td>\n",
       "      <td>267.000000</td>\n",
       "      <td>155.750000</td>\n",
       "      <td>1.50000</td>\n",
       "      <td>2.000000</td>\n",
       "    </tr>\n",
       "    <tr>\n",
       "      <th>max</th>\n",
       "      <td>77.000000</td>\n",
       "      <td>200.000000</td>\n",
       "      <td>603.000000</td>\n",
       "      <td>202.000000</td>\n",
       "      <td>6.20000</td>\n",
       "      <td>4.000000</td>\n",
       "    </tr>\n",
       "  </tbody>\n",
       "</table>\n",
       "</div>"
      ],
      "text/plain": [
       "              age    trestbps        chol      thalch    oldpeak         num\n",
       "count  918.000000  918.000000  918.000000  918.000000  918.00000  918.000000\n",
       "mean    53.510893  132.141612  199.862745  137.689542    0.85512    0.995643\n",
       "std      9.432617   17.924706  109.154522   25.153455    1.05845    1.142985\n",
       "min     28.000000   80.000000    0.000000   60.000000   -2.60000    0.000000\n",
       "25%     47.000000  120.000000  177.250000  120.000000    0.00000    0.000000\n",
       "50%     54.000000  130.000000  223.000000  140.000000    0.50000    1.000000\n",
       "75%     60.000000  140.000000  267.000000  155.750000    1.50000    2.000000\n",
       "max     77.000000  200.000000  603.000000  202.000000    6.20000    4.000000"
      ]
     },
     "execution_count": 4,
     "metadata": {},
     "output_type": "execute_result"
    }
   ],
   "source": [
    "# Numeric Variables\n",
    "heart.describe()"
   ]
  },
  {
   "cell_type": "code",
   "execution_count": null,
   "id": "9d2000ad",
   "metadata": {},
   "outputs": [
    {
     "name": "stdout",
     "output_type": "stream",
     "text": [
      "\n",
      "Frequencies for sex:\n",
      "        Count  Percentage\n",
      "sex                      \n",
      "Male      725       78.98\n",
      "Female    193       21.02\n",
      "\n",
      "Frequencies for cp:\n",
      "                Count  Percentage\n",
      "cp                               \n",
      "asymptomatic      496       54.03\n",
      "typical angina    219       23.86\n",
      "non-anginal       203       22.11\n",
      "\n",
      "Frequencies for restecg:\n",
      "                  Count  Percentage\n",
      "restecg                            \n",
      "normal              552       60.13\n",
      "lv hypertrophy      188       20.48\n",
      "st-t abnormality    178       19.39\n",
      "\n",
      "Frequencies for fbs:\n",
      "       Count  Percentage\n",
      "fbs                     \n",
      "False    780       84.97\n",
      "True     138       15.03\n",
      "\n",
      "Frequencies for exang:\n",
      "       Count  Percentage\n",
      "exang                   \n",
      "False    582        63.4\n",
      "True     336        36.6\n",
      "\n",
      "Frequencies for num:\n",
      "     Count  Percentage\n",
      "num                   \n",
      "0      410       44.66\n",
      "1      265       28.87\n",
      "2      108       11.76\n",
      "3      107       11.66\n",
      "4       28        3.05\n"
     ]
    }
   ],
   "source": [
    "cat_columns = [\"sex\", \"cp\", \"restecg\", \"fbs\", \"exang\", \"num\"]\n",
    "\n",
    "\n",
    "def categorical_frequencies(df: pd.DataFrame, cat_cols: list[str]) -> None:\n",
    "    for col in cat_cols:\n",
    "        if col in df.columns:\n",
    "            summary = pd.DataFrame(\n",
    "                {\n",
    "                    \"Count\": df[col].value_counts(dropna=False),\n",
    "                    \"Percentage\": (\n",
    "                        df[col].value_counts(normalize=True, dropna=False) * 100\n",
    "                    ).round(2),\n",
    "                }\n",
    "            )\n",
    "            print(f\"\\nFrequencies for {col}:\")\n",
    "            print(summary)\n",
    "\n",
    "\n",
    "freqs = categorical_frequencies(heart, cat_columns)"
   ]
  },
  {
   "cell_type": "markdown",
   "id": "a29ded23",
   "metadata": {},
   "source": [
    "Missing values and duplicates"
   ]
  },
  {
   "cell_type": "code",
   "execution_count": 6,
   "id": "ad267de2",
   "metadata": {},
   "outputs": [
    {
     "name": "stdout",
     "output_type": "stream",
     "text": [
      "Missing values:\n",
      " age         0\n",
      "sex         0\n",
      "cp          0\n",
      "trestbps    0\n",
      "chol        0\n",
      "fbs         0\n",
      "restecg     0\n",
      "thalch      0\n",
      "exang       0\n",
      "oldpeak     0\n",
      "num         0\n",
      "dtype: int64\n"
     ]
    }
   ],
   "source": [
    "# Check for missing values\n",
    "print(\"Missing values:\\n\", heart.isnull().sum())"
   ]
  },
  {
   "cell_type": "code",
   "execution_count": null,
   "id": "2e01565a",
   "metadata": {},
   "outputs": [
    {
     "data": {
      "application/vnd.microsoft.datawrangler.viewer.v0+json": {
       "columns": [
        {
         "name": "index",
         "rawType": "int64",
         "type": "integer"
        },
        {
         "name": "age",
         "rawType": "int64",
         "type": "integer"
        },
        {
         "name": "sex",
         "rawType": "object",
         "type": "string"
        },
        {
         "name": "cp",
         "rawType": "object",
         "type": "string"
        },
        {
         "name": "trestbps",
         "rawType": "float64",
         "type": "float"
        },
        {
         "name": "chol",
         "rawType": "float64",
         "type": "float"
        },
        {
         "name": "fbs",
         "rawType": "bool",
         "type": "boolean"
        },
        {
         "name": "restecg",
         "rawType": "object",
         "type": "string"
        },
        {
         "name": "thalch",
         "rawType": "float64",
         "type": "float"
        },
        {
         "name": "exang",
         "rawType": "bool",
         "type": "boolean"
        },
        {
         "name": "oldpeak",
         "rawType": "float64",
         "type": "float"
        },
        {
         "name": "num",
         "rawType": "int64",
         "type": "integer"
        }
       ],
       "ref": "54d7349f-b87e-4390-aeb7-3e88749adb92",
       "rows": [],
       "shape": {
        "columns": 11,
        "rows": 0
       }
      },
      "text/html": [
       "<div>\n",
       "<style scoped>\n",
       "    .dataframe tbody tr th:only-of-type {\n",
       "        vertical-align: middle;\n",
       "    }\n",
       "\n",
       "    .dataframe tbody tr th {\n",
       "        vertical-align: top;\n",
       "    }\n",
       "\n",
       "    .dataframe thead th {\n",
       "        text-align: right;\n",
       "    }\n",
       "</style>\n",
       "<table border=\"1\" class=\"dataframe\">\n",
       "  <thead>\n",
       "    <tr style=\"text-align: right;\">\n",
       "      <th></th>\n",
       "      <th>age</th>\n",
       "      <th>sex</th>\n",
       "      <th>cp</th>\n",
       "      <th>trestbps</th>\n",
       "      <th>chol</th>\n",
       "      <th>fbs</th>\n",
       "      <th>restecg</th>\n",
       "      <th>thalch</th>\n",
       "      <th>exang</th>\n",
       "      <th>oldpeak</th>\n",
       "      <th>num</th>\n",
       "    </tr>\n",
       "  </thead>\n",
       "  <tbody>\n",
       "  </tbody>\n",
       "</table>\n",
       "</div>"
      ],
      "text/plain": [
       "Empty DataFrame\n",
       "Columns: [age, sex, cp, trestbps, chol, fbs, restecg, thalch, exang, oldpeak, num]\n",
       "Index: []"
      ]
     },
     "execution_count": 7,
     "metadata": {},
     "output_type": "execute_result"
    }
   ],
   "source": [
    "# Show duplicates\n",
    "heart[heart.duplicated()]"
   ]
  },
  {
   "cell_type": "markdown",
   "id": "cac16328",
   "metadata": {},
   "source": [
    "There were no duplicates\n",
    "\n",
    "# Basic Filtering and Grouping\n",
    "Potential subsets\n"
   ]
  },
  {
   "cell_type": "code",
   "execution_count": null,
   "id": "3d5bab6a",
   "metadata": {},
   "outputs": [],
   "source": [
    "# Subsets that could be interesting to analize\n",
    "old = heart[heart[\"age\"] > 65]\n",
    "males = heart[heart[\"sex\"] == \"male\"]\n",
    "females = heart[heart[\"sex\"] == \"female\"]\n",
    "asymptomatic = heart[heart[\"cp\"] == \"asymptomatic\"]"
   ]
  },
  {
   "cell_type": "markdown",
   "id": "a4ad4002",
   "metadata": {},
   "source": [
    "Statistics by group"
   ]
  },
  {
   "cell_type": "code",
   "execution_count": null,
   "id": "9b58d4ba",
   "metadata": {},
   "outputs": [
    {
     "data": {
      "application/vnd.microsoft.datawrangler.viewer.v0+json": {
       "columns": [
        {
         "name": "sex",
         "rawType": "object",
         "type": "string"
        },
        {
         "name": "('age', 'mean')",
         "rawType": "float64",
         "type": "float"
        },
        {
         "name": "('age', 'median')",
         "rawType": "float64",
         "type": "float"
        },
        {
         "name": "('age', 'count')",
         "rawType": "int64",
         "type": "integer"
        },
        {
         "name": "('trestbps', 'mean')",
         "rawType": "float64",
         "type": "float"
        },
        {
         "name": "('trestbps', 'median')",
         "rawType": "float64",
         "type": "float"
        },
        {
         "name": "('trestbps', 'count')",
         "rawType": "int64",
         "type": "integer"
        },
        {
         "name": "('chol', 'mean')",
         "rawType": "float64",
         "type": "float"
        },
        {
         "name": "('chol', 'median')",
         "rawType": "float64",
         "type": "float"
        },
        {
         "name": "('chol', 'count')",
         "rawType": "int64",
         "type": "integer"
        },
        {
         "name": "('thalch', 'mean')",
         "rawType": "float64",
         "type": "float"
        },
        {
         "name": "('thalch', 'median')",
         "rawType": "float64",
         "type": "float"
        },
        {
         "name": "('thalch', 'count')",
         "rawType": "int64",
         "type": "integer"
        },
        {
         "name": "('oldpeak', 'mean')",
         "rawType": "float64",
         "type": "float"
        },
        {
         "name": "('oldpeak', 'median')",
         "rawType": "float64",
         "type": "float"
        },
        {
         "name": "('oldpeak', 'count')",
         "rawType": "int64",
         "type": "integer"
        },
        {
         "name": "('num', 'mean')",
         "rawType": "float64",
         "type": "float"
        },
        {
         "name": "('num', 'median')",
         "rawType": "float64",
         "type": "float"
        },
        {
         "name": "('num', 'count')",
         "rawType": "int64",
         "type": "integer"
        }
       ],
       "ref": "c2ca2556-3970-43f5-b212-0acc7a7e0c1f",
       "rows": [
        [
         "Female",
         "52.49222797927461",
         "53.0",
         "193",
         "132.1865284974093",
         "130.0",
         "193",
         "240.90673575129534",
         "241.0",
         "193",
         "146.10880829015545",
         "150.0",
         "193",
         "0.6709844559585493",
         "0.0",
         "193",
         "0.42487046632124353",
         "0.0",
         "193"
        ],
        [
         "Male",
         "53.78206896551724",
         "55.0",
         "725",
         "132.1296551724138",
         "130.0",
         "725",
         "188.93655172413793",
         "222.0",
         "725",
         "135.44827586206895",
         "140.0",
         "725",
         "0.9041379310344828",
         "0.5",
         "725",
         "1.1475862068965517",
         "1.0",
         "725"
        ]
       ],
       "shape": {
        "columns": 18,
        "rows": 2
       }
      },
      "text/html": [
       "<div>\n",
       "<style scoped>\n",
       "    .dataframe tbody tr th:only-of-type {\n",
       "        vertical-align: middle;\n",
       "    }\n",
       "\n",
       "    .dataframe tbody tr th {\n",
       "        vertical-align: top;\n",
       "    }\n",
       "\n",
       "    .dataframe thead tr th {\n",
       "        text-align: left;\n",
       "    }\n",
       "\n",
       "    .dataframe thead tr:last-of-type th {\n",
       "        text-align: right;\n",
       "    }\n",
       "</style>\n",
       "<table border=\"1\" class=\"dataframe\">\n",
       "  <thead>\n",
       "    <tr>\n",
       "      <th></th>\n",
       "      <th colspan=\"3\" halign=\"left\">age</th>\n",
       "      <th colspan=\"3\" halign=\"left\">trestbps</th>\n",
       "      <th colspan=\"3\" halign=\"left\">chol</th>\n",
       "      <th colspan=\"3\" halign=\"left\">thalch</th>\n",
       "      <th colspan=\"3\" halign=\"left\">oldpeak</th>\n",
       "      <th colspan=\"3\" halign=\"left\">num</th>\n",
       "    </tr>\n",
       "    <tr>\n",
       "      <th></th>\n",
       "      <th>mean</th>\n",
       "      <th>median</th>\n",
       "      <th>count</th>\n",
       "      <th>mean</th>\n",
       "      <th>median</th>\n",
       "      <th>count</th>\n",
       "      <th>mean</th>\n",
       "      <th>median</th>\n",
       "      <th>count</th>\n",
       "      <th>mean</th>\n",
       "      <th>median</th>\n",
       "      <th>count</th>\n",
       "      <th>mean</th>\n",
       "      <th>median</th>\n",
       "      <th>count</th>\n",
       "      <th>mean</th>\n",
       "      <th>median</th>\n",
       "      <th>count</th>\n",
       "    </tr>\n",
       "    <tr>\n",
       "      <th>sex</th>\n",
       "      <th></th>\n",
       "      <th></th>\n",
       "      <th></th>\n",
       "      <th></th>\n",
       "      <th></th>\n",
       "      <th></th>\n",
       "      <th></th>\n",
       "      <th></th>\n",
       "      <th></th>\n",
       "      <th></th>\n",
       "      <th></th>\n",
       "      <th></th>\n",
       "      <th></th>\n",
       "      <th></th>\n",
       "      <th></th>\n",
       "      <th></th>\n",
       "      <th></th>\n",
       "      <th></th>\n",
       "    </tr>\n",
       "  </thead>\n",
       "  <tbody>\n",
       "    <tr>\n",
       "      <th>Female</th>\n",
       "      <td>52.492228</td>\n",
       "      <td>53.0</td>\n",
       "      <td>193</td>\n",
       "      <td>132.186528</td>\n",
       "      <td>130.0</td>\n",
       "      <td>193</td>\n",
       "      <td>240.906736</td>\n",
       "      <td>241.0</td>\n",
       "      <td>193</td>\n",
       "      <td>146.108808</td>\n",
       "      <td>150.0</td>\n",
       "      <td>193</td>\n",
       "      <td>0.670984</td>\n",
       "      <td>0.0</td>\n",
       "      <td>193</td>\n",
       "      <td>0.424870</td>\n",
       "      <td>0.0</td>\n",
       "      <td>193</td>\n",
       "    </tr>\n",
       "    <tr>\n",
       "      <th>Male</th>\n",
       "      <td>53.782069</td>\n",
       "      <td>55.0</td>\n",
       "      <td>725</td>\n",
       "      <td>132.129655</td>\n",
       "      <td>130.0</td>\n",
       "      <td>725</td>\n",
       "      <td>188.936552</td>\n",
       "      <td>222.0</td>\n",
       "      <td>725</td>\n",
       "      <td>135.448276</td>\n",
       "      <td>140.0</td>\n",
       "      <td>725</td>\n",
       "      <td>0.904138</td>\n",
       "      <td>0.5</td>\n",
       "      <td>725</td>\n",
       "      <td>1.147586</td>\n",
       "      <td>1.0</td>\n",
       "      <td>725</td>\n",
       "    </tr>\n",
       "  </tbody>\n",
       "</table>\n",
       "</div>"
      ],
      "text/plain": [
       "              age                 trestbps                     chol         \\\n",
       "             mean median count        mean median count        mean median   \n",
       "sex                                                                          \n",
       "Female  52.492228   53.0   193  132.186528  130.0   193  240.906736  241.0   \n",
       "Male    53.782069   55.0   725  132.129655  130.0   725  188.936552  222.0   \n",
       "\n",
       "                  thalch                oldpeak                    num         \\\n",
       "       count        mean median count      mean median count      mean median   \n",
       "sex                                                                             \n",
       "Female   193  146.108808  150.0   193  0.670984    0.0   193  0.424870    0.0   \n",
       "Male     725  135.448276  140.0   725  0.904138    0.5   725  1.147586    1.0   \n",
       "\n",
       "              \n",
       "       count  \n",
       "sex           \n",
       "Female   193  \n",
       "Male     725  "
      ]
     },
     "execution_count": 9,
     "metadata": {},
     "output_type": "execute_result"
    }
   ],
   "source": [
    "# by sex\n",
    "heart.groupby(\"sex\")[heart.select_dtypes(include=\"number\").columns].agg(\n",
    "    [\"mean\", \"median\", \"count\"]\n",
    ")"
   ]
  },
  {
   "cell_type": "code",
   "execution_count": null,
   "id": "dde55f91",
   "metadata": {},
   "outputs": [
    {
     "data": {
      "application/vnd.microsoft.datawrangler.viewer.v0+json": {
       "columns": [
        {
         "name": "cp",
         "rawType": "object",
         "type": "string"
        },
        {
         "name": "('age', 'mean')",
         "rawType": "float64",
         "type": "float"
        },
        {
         "name": "('age', 'median')",
         "rawType": "float64",
         "type": "float"
        },
        {
         "name": "('age', 'count')",
         "rawType": "int64",
         "type": "integer"
        },
        {
         "name": "('trestbps', 'mean')",
         "rawType": "float64",
         "type": "float"
        },
        {
         "name": "('trestbps', 'median')",
         "rawType": "float64",
         "type": "float"
        },
        {
         "name": "('trestbps', 'count')",
         "rawType": "int64",
         "type": "integer"
        },
        {
         "name": "('chol', 'mean')",
         "rawType": "float64",
         "type": "float"
        },
        {
         "name": "('chol', 'median')",
         "rawType": "float64",
         "type": "float"
        },
        {
         "name": "('chol', 'count')",
         "rawType": "int64",
         "type": "integer"
        },
        {
         "name": "('thalch', 'mean')",
         "rawType": "float64",
         "type": "float"
        },
        {
         "name": "('thalch', 'median')",
         "rawType": "float64",
         "type": "float"
        },
        {
         "name": "('thalch', 'count')",
         "rawType": "int64",
         "type": "integer"
        },
        {
         "name": "('oldpeak', 'mean')",
         "rawType": "float64",
         "type": "float"
        },
        {
         "name": "('oldpeak', 'median')",
         "rawType": "float64",
         "type": "float"
        },
        {
         "name": "('oldpeak', 'count')",
         "rawType": "int64",
         "type": "integer"
        },
        {
         "name": "('num', 'mean')",
         "rawType": "float64",
         "type": "float"
        },
        {
         "name": "('num', 'median')",
         "rawType": "float64",
         "type": "float"
        },
        {
         "name": "('num', 'count')",
         "rawType": "int64",
         "type": "integer"
        }
       ],
       "ref": "33c37526-f53d-4bfb-85d4-17ea889bb05b",
       "rows": [
        [
         "asymptomatic",
         "54.95967741935484",
         "56.0",
         "496",
         "132.84677419354838",
         "130.0",
         "496",
         "188.10685483870967",
         "223.0",
         "496",
         "129.4959677419355",
         "130.0",
         "496",
         "1.1217741935483871",
         "1.0",
         "496",
         "1.4435483870967742",
         "1.0",
         "496"
        ],
        [
         "non-anginal",
         "53.310344827586206",
         "53.0",
         "203",
         "131.0935960591133",
         "130.0",
         "203",
         "198.4630541871921",
         "220.0",
         "203",
         "144.41379310344828",
         "146.0",
         "203",
         "0.6300492610837438",
         "0.2",
         "203",
         "0.6551724137931034",
         "0.0",
         "203"
        ],
        [
         "typical angina",
         "50.41552511415525",
         "52.0",
         "219",
         "131.5159817351598",
         "130.0",
         "219",
         "227.78538812785388",
         "233.0",
         "219",
         "150.013698630137",
         "150.0",
         "219",
         "0.45981735159817355",
         "0.0",
         "219",
         "0.2968036529680365",
         "0.0",
         "219"
        ]
       ],
       "shape": {
        "columns": 18,
        "rows": 3
       }
      },
      "text/html": [
       "<div>\n",
       "<style scoped>\n",
       "    .dataframe tbody tr th:only-of-type {\n",
       "        vertical-align: middle;\n",
       "    }\n",
       "\n",
       "    .dataframe tbody tr th {\n",
       "        vertical-align: top;\n",
       "    }\n",
       "\n",
       "    .dataframe thead tr th {\n",
       "        text-align: left;\n",
       "    }\n",
       "\n",
       "    .dataframe thead tr:last-of-type th {\n",
       "        text-align: right;\n",
       "    }\n",
       "</style>\n",
       "<table border=\"1\" class=\"dataframe\">\n",
       "  <thead>\n",
       "    <tr>\n",
       "      <th></th>\n",
       "      <th colspan=\"3\" halign=\"left\">age</th>\n",
       "      <th colspan=\"3\" halign=\"left\">trestbps</th>\n",
       "      <th colspan=\"3\" halign=\"left\">chol</th>\n",
       "      <th colspan=\"3\" halign=\"left\">thalch</th>\n",
       "      <th colspan=\"3\" halign=\"left\">oldpeak</th>\n",
       "      <th colspan=\"3\" halign=\"left\">num</th>\n",
       "    </tr>\n",
       "    <tr>\n",
       "      <th></th>\n",
       "      <th>mean</th>\n",
       "      <th>median</th>\n",
       "      <th>count</th>\n",
       "      <th>mean</th>\n",
       "      <th>median</th>\n",
       "      <th>count</th>\n",
       "      <th>mean</th>\n",
       "      <th>median</th>\n",
       "      <th>count</th>\n",
       "      <th>mean</th>\n",
       "      <th>median</th>\n",
       "      <th>count</th>\n",
       "      <th>mean</th>\n",
       "      <th>median</th>\n",
       "      <th>count</th>\n",
       "      <th>mean</th>\n",
       "      <th>median</th>\n",
       "      <th>count</th>\n",
       "    </tr>\n",
       "    <tr>\n",
       "      <th>cp</th>\n",
       "      <th></th>\n",
       "      <th></th>\n",
       "      <th></th>\n",
       "      <th></th>\n",
       "      <th></th>\n",
       "      <th></th>\n",
       "      <th></th>\n",
       "      <th></th>\n",
       "      <th></th>\n",
       "      <th></th>\n",
       "      <th></th>\n",
       "      <th></th>\n",
       "      <th></th>\n",
       "      <th></th>\n",
       "      <th></th>\n",
       "      <th></th>\n",
       "      <th></th>\n",
       "      <th></th>\n",
       "    </tr>\n",
       "  </thead>\n",
       "  <tbody>\n",
       "    <tr>\n",
       "      <th>asymptomatic</th>\n",
       "      <td>54.959677</td>\n",
       "      <td>56.0</td>\n",
       "      <td>496</td>\n",
       "      <td>132.846774</td>\n",
       "      <td>130.0</td>\n",
       "      <td>496</td>\n",
       "      <td>188.106855</td>\n",
       "      <td>223.0</td>\n",
       "      <td>496</td>\n",
       "      <td>129.495968</td>\n",
       "      <td>130.0</td>\n",
       "      <td>496</td>\n",
       "      <td>1.121774</td>\n",
       "      <td>1.0</td>\n",
       "      <td>496</td>\n",
       "      <td>1.443548</td>\n",
       "      <td>1.0</td>\n",
       "      <td>496</td>\n",
       "    </tr>\n",
       "    <tr>\n",
       "      <th>non-anginal</th>\n",
       "      <td>53.310345</td>\n",
       "      <td>53.0</td>\n",
       "      <td>203</td>\n",
       "      <td>131.093596</td>\n",
       "      <td>130.0</td>\n",
       "      <td>203</td>\n",
       "      <td>198.463054</td>\n",
       "      <td>220.0</td>\n",
       "      <td>203</td>\n",
       "      <td>144.413793</td>\n",
       "      <td>146.0</td>\n",
       "      <td>203</td>\n",
       "      <td>0.630049</td>\n",
       "      <td>0.2</td>\n",
       "      <td>203</td>\n",
       "      <td>0.655172</td>\n",
       "      <td>0.0</td>\n",
       "      <td>203</td>\n",
       "    </tr>\n",
       "    <tr>\n",
       "      <th>typical angina</th>\n",
       "      <td>50.415525</td>\n",
       "      <td>52.0</td>\n",
       "      <td>219</td>\n",
       "      <td>131.515982</td>\n",
       "      <td>130.0</td>\n",
       "      <td>219</td>\n",
       "      <td>227.785388</td>\n",
       "      <td>233.0</td>\n",
       "      <td>219</td>\n",
       "      <td>150.013699</td>\n",
       "      <td>150.0</td>\n",
       "      <td>219</td>\n",
       "      <td>0.459817</td>\n",
       "      <td>0.0</td>\n",
       "      <td>219</td>\n",
       "      <td>0.296804</td>\n",
       "      <td>0.0</td>\n",
       "      <td>219</td>\n",
       "    </tr>\n",
       "  </tbody>\n",
       "</table>\n",
       "</div>"
      ],
      "text/plain": [
       "                      age                 trestbps                     chol  \\\n",
       "                     mean median count        mean median count        mean   \n",
       "cp                                                                            \n",
       "asymptomatic    54.959677   56.0   496  132.846774  130.0   496  188.106855   \n",
       "non-anginal     53.310345   53.0   203  131.093596  130.0   203  198.463054   \n",
       "typical angina  50.415525   52.0   219  131.515982  130.0   219  227.785388   \n",
       "\n",
       "                                 thalch                oldpeak               \\\n",
       "               median count        mean median count      mean median count   \n",
       "cp                                                                            \n",
       "asymptomatic    223.0   496  129.495968  130.0   496  1.121774    1.0   496   \n",
       "non-anginal     220.0   203  144.413793  146.0   203  0.630049    0.2   203   \n",
       "typical angina  233.0   219  150.013699  150.0   219  0.459817    0.0   219   \n",
       "\n",
       "                     num               \n",
       "                    mean median count  \n",
       "cp                                     \n",
       "asymptomatic    1.443548    1.0   496  \n",
       "non-anginal     0.655172    0.0   203  \n",
       "typical angina  0.296804    0.0   219  "
      ]
     },
     "execution_count": 10,
     "metadata": {},
     "output_type": "execute_result"
    }
   ],
   "source": [
    "# by Chest pain type\n",
    "heart.groupby(\"cp\")[heart.select_dtypes(include=\"number\").columns].agg(\n",
    "    [\"mean\", \"median\", \"count\"]\n",
    ")"
   ]
  },
  {
   "cell_type": "code",
   "execution_count": null,
   "id": "f4e6b820",
   "metadata": {},
   "outputs": [
    {
     "data": {
      "application/vnd.microsoft.datawrangler.viewer.v0+json": {
       "columns": [
        {
         "name": "num",
         "rawType": "int64",
         "type": "integer"
        },
        {
         "name": "('age', 'mean')",
         "rawType": "float64",
         "type": "float"
        },
        {
         "name": "('age', 'median')",
         "rawType": "float64",
         "type": "float"
        },
        {
         "name": "('age', 'count')",
         "rawType": "int64",
         "type": "integer"
        },
        {
         "name": "('trestbps', 'mean')",
         "rawType": "float64",
         "type": "float"
        },
        {
         "name": "('trestbps', 'median')",
         "rawType": "float64",
         "type": "float"
        },
        {
         "name": "('trestbps', 'count')",
         "rawType": "int64",
         "type": "integer"
        },
        {
         "name": "('chol', 'mean')",
         "rawType": "float64",
         "type": "float"
        },
        {
         "name": "('chol', 'median')",
         "rawType": "float64",
         "type": "float"
        },
        {
         "name": "('chol', 'count')",
         "rawType": "int64",
         "type": "integer"
        },
        {
         "name": "('thalch', 'mean')",
         "rawType": "float64",
         "type": "float"
        },
        {
         "name": "('thalch', 'median')",
         "rawType": "float64",
         "type": "float"
        },
        {
         "name": "('thalch', 'count')",
         "rawType": "int64",
         "type": "integer"
        },
        {
         "name": "('oldpeak', 'mean')",
         "rawType": "float64",
         "type": "float"
        },
        {
         "name": "('oldpeak', 'median')",
         "rawType": "float64",
         "type": "float"
        },
        {
         "name": "('oldpeak', 'count')",
         "rawType": "int64",
         "type": "integer"
        },
        {
         "name": "('num', 'mean')",
         "rawType": "float64",
         "type": "float"
        },
        {
         "name": "('num', 'median')",
         "rawType": "float64",
         "type": "float"
        },
        {
         "name": "('num', 'count')",
         "rawType": "int64",
         "type": "integer"
        }
       ],
       "ref": "6d80e19b-5794-41de-b838-84b4bd1b1481",
       "rows": [
        [
         "0",
         "50.551219512195125",
         "51.0",
         "410",
         "129.9658536585366",
         "130.0",
         "410",
         "227.69024390243902",
         "225.5",
         "410",
         "148.3439024390244",
         "150.0",
         "410",
         "0.42341463414634145",
         "0.0",
         "410",
         "0.0",
         "0.0",
         "410"
        ],
        [
         "1",
         "53.528301886792455",
         "55.0",
         "265",
         "132.72075471698113",
         "130.0",
         "265",
         "195.988679245283",
         "226.0",
         "265",
         "131.4754716981132",
         "130.0",
         "265",
         "0.9728301886792453",
         "1.0",
         "265",
         "1.0",
         "1.0",
         "265"
        ],
        [
         "2",
         "57.574074074074076",
         "58.5",
         "108",
         "133.19444444444446",
         "130.0",
         "108",
         "144.62962962962962",
         "193.0",
         "108",
         "129.5",
         "131.0",
         "108",
         "1.3027777777777776",
         "1.4",
         "108",
         "2.0",
         "2.0",
         "108"
        ],
        [
         "3",
         "59.21495327102804",
         "60.0",
         "107",
         "136.50467289719626",
         "130.0",
         "107",
         "160.30841121495328",
         "214.0",
         "107",
         "122.86915887850468",
         "122.0",
         "107",
         "1.4196261682242992",
         "1.0",
         "107",
         "3.0",
         "3.0",
         "107"
        ],
        [
         "4",
         "59.214285714285715",
         "59.0",
         "28",
         "137.78571428571428",
         "132.0",
         "28",
         "193.25",
         "224.0",
         "28",
         "128.71428571428572",
         "126.5",
         "28",
         "2.1785714285714284",
         "2.45",
         "28",
         "4.0",
         "4.0",
         "28"
        ]
       ],
       "shape": {
        "columns": 18,
        "rows": 5
       }
      },
      "text/html": [
       "<div>\n",
       "<style scoped>\n",
       "    .dataframe tbody tr th:only-of-type {\n",
       "        vertical-align: middle;\n",
       "    }\n",
       "\n",
       "    .dataframe tbody tr th {\n",
       "        vertical-align: top;\n",
       "    }\n",
       "\n",
       "    .dataframe thead tr th {\n",
       "        text-align: left;\n",
       "    }\n",
       "\n",
       "    .dataframe thead tr:last-of-type th {\n",
       "        text-align: right;\n",
       "    }\n",
       "</style>\n",
       "<table border=\"1\" class=\"dataframe\">\n",
       "  <thead>\n",
       "    <tr>\n",
       "      <th></th>\n",
       "      <th colspan=\"3\" halign=\"left\">age</th>\n",
       "      <th colspan=\"3\" halign=\"left\">trestbps</th>\n",
       "      <th colspan=\"3\" halign=\"left\">chol</th>\n",
       "      <th colspan=\"3\" halign=\"left\">thalch</th>\n",
       "      <th colspan=\"3\" halign=\"left\">oldpeak</th>\n",
       "      <th colspan=\"3\" halign=\"left\">num</th>\n",
       "    </tr>\n",
       "    <tr>\n",
       "      <th></th>\n",
       "      <th>mean</th>\n",
       "      <th>median</th>\n",
       "      <th>count</th>\n",
       "      <th>mean</th>\n",
       "      <th>median</th>\n",
       "      <th>count</th>\n",
       "      <th>mean</th>\n",
       "      <th>median</th>\n",
       "      <th>count</th>\n",
       "      <th>mean</th>\n",
       "      <th>median</th>\n",
       "      <th>count</th>\n",
       "      <th>mean</th>\n",
       "      <th>median</th>\n",
       "      <th>count</th>\n",
       "      <th>mean</th>\n",
       "      <th>median</th>\n",
       "      <th>count</th>\n",
       "    </tr>\n",
       "    <tr>\n",
       "      <th>num</th>\n",
       "      <th></th>\n",
       "      <th></th>\n",
       "      <th></th>\n",
       "      <th></th>\n",
       "      <th></th>\n",
       "      <th></th>\n",
       "      <th></th>\n",
       "      <th></th>\n",
       "      <th></th>\n",
       "      <th></th>\n",
       "      <th></th>\n",
       "      <th></th>\n",
       "      <th></th>\n",
       "      <th></th>\n",
       "      <th></th>\n",
       "      <th></th>\n",
       "      <th></th>\n",
       "      <th></th>\n",
       "    </tr>\n",
       "  </thead>\n",
       "  <tbody>\n",
       "    <tr>\n",
       "      <th>0</th>\n",
       "      <td>50.551220</td>\n",
       "      <td>51.0</td>\n",
       "      <td>410</td>\n",
       "      <td>129.965854</td>\n",
       "      <td>130.0</td>\n",
       "      <td>410</td>\n",
       "      <td>227.690244</td>\n",
       "      <td>225.5</td>\n",
       "      <td>410</td>\n",
       "      <td>148.343902</td>\n",
       "      <td>150.0</td>\n",
       "      <td>410</td>\n",
       "      <td>0.423415</td>\n",
       "      <td>0.00</td>\n",
       "      <td>410</td>\n",
       "      <td>0.0</td>\n",
       "      <td>0.0</td>\n",
       "      <td>410</td>\n",
       "    </tr>\n",
       "    <tr>\n",
       "      <th>1</th>\n",
       "      <td>53.528302</td>\n",
       "      <td>55.0</td>\n",
       "      <td>265</td>\n",
       "      <td>132.720755</td>\n",
       "      <td>130.0</td>\n",
       "      <td>265</td>\n",
       "      <td>195.988679</td>\n",
       "      <td>226.0</td>\n",
       "      <td>265</td>\n",
       "      <td>131.475472</td>\n",
       "      <td>130.0</td>\n",
       "      <td>265</td>\n",
       "      <td>0.972830</td>\n",
       "      <td>1.00</td>\n",
       "      <td>265</td>\n",
       "      <td>1.0</td>\n",
       "      <td>1.0</td>\n",
       "      <td>265</td>\n",
       "    </tr>\n",
       "    <tr>\n",
       "      <th>2</th>\n",
       "      <td>57.574074</td>\n",
       "      <td>58.5</td>\n",
       "      <td>108</td>\n",
       "      <td>133.194444</td>\n",
       "      <td>130.0</td>\n",
       "      <td>108</td>\n",
       "      <td>144.629630</td>\n",
       "      <td>193.0</td>\n",
       "      <td>108</td>\n",
       "      <td>129.500000</td>\n",
       "      <td>131.0</td>\n",
       "      <td>108</td>\n",
       "      <td>1.302778</td>\n",
       "      <td>1.40</td>\n",
       "      <td>108</td>\n",
       "      <td>2.0</td>\n",
       "      <td>2.0</td>\n",
       "      <td>108</td>\n",
       "    </tr>\n",
       "    <tr>\n",
       "      <th>3</th>\n",
       "      <td>59.214953</td>\n",
       "      <td>60.0</td>\n",
       "      <td>107</td>\n",
       "      <td>136.504673</td>\n",
       "      <td>130.0</td>\n",
       "      <td>107</td>\n",
       "      <td>160.308411</td>\n",
       "      <td>214.0</td>\n",
       "      <td>107</td>\n",
       "      <td>122.869159</td>\n",
       "      <td>122.0</td>\n",
       "      <td>107</td>\n",
       "      <td>1.419626</td>\n",
       "      <td>1.00</td>\n",
       "      <td>107</td>\n",
       "      <td>3.0</td>\n",
       "      <td>3.0</td>\n",
       "      <td>107</td>\n",
       "    </tr>\n",
       "    <tr>\n",
       "      <th>4</th>\n",
       "      <td>59.214286</td>\n",
       "      <td>59.0</td>\n",
       "      <td>28</td>\n",
       "      <td>137.785714</td>\n",
       "      <td>132.0</td>\n",
       "      <td>28</td>\n",
       "      <td>193.250000</td>\n",
       "      <td>224.0</td>\n",
       "      <td>28</td>\n",
       "      <td>128.714286</td>\n",
       "      <td>126.5</td>\n",
       "      <td>28</td>\n",
       "      <td>2.178571</td>\n",
       "      <td>2.45</td>\n",
       "      <td>28</td>\n",
       "      <td>4.0</td>\n",
       "      <td>4.0</td>\n",
       "      <td>28</td>\n",
       "    </tr>\n",
       "  </tbody>\n",
       "</table>\n",
       "</div>"
      ],
      "text/plain": [
       "           age                 trestbps                     chol               \\\n",
       "          mean median count        mean median count        mean median count   \n",
       "num                                                                             \n",
       "0    50.551220   51.0   410  129.965854  130.0   410  227.690244  225.5   410   \n",
       "1    53.528302   55.0   265  132.720755  130.0   265  195.988679  226.0   265   \n",
       "2    57.574074   58.5   108  133.194444  130.0   108  144.629630  193.0   108   \n",
       "3    59.214953   60.0   107  136.504673  130.0   107  160.308411  214.0   107   \n",
       "4    59.214286   59.0    28  137.785714  132.0    28  193.250000  224.0    28   \n",
       "\n",
       "         thalch                oldpeak               num               \n",
       "           mean median count      mean median count mean median count  \n",
       "num                                                                    \n",
       "0    148.343902  150.0   410  0.423415   0.00   410  0.0    0.0   410  \n",
       "1    131.475472  130.0   265  0.972830   1.00   265  1.0    1.0   265  \n",
       "2    129.500000  131.0   108  1.302778   1.40   108  2.0    2.0   108  \n",
       "3    122.869159  122.0   107  1.419626   1.00   107  3.0    3.0   107  \n",
       "4    128.714286  126.5    28  2.178571   2.45    28  4.0    4.0    28  "
      ]
     },
     "execution_count": 11,
     "metadata": {},
     "output_type": "execute_result"
    }
   ],
   "source": [
    "# by Target variable (Heart disease diagnosis)\n",
    "heart.groupby(\"num\")[heart.select_dtypes(include=\"number\").columns].agg(\n",
    "    [\"mean\", \"median\", \"count\"]\n",
    ")"
   ]
  },
  {
   "cell_type": "markdown",
   "id": "01be6288",
   "metadata": {},
   "source": [
    "# Explore a Machine Learning Algorithm\n",
    "For simplicity, the variable num will be recategorized into 0 and 1, with 0 representing no disease and 1 indicating the presence of heart disease. "
   ]
  },
  {
   "cell_type": "code",
   "execution_count": null,
   "id": "8899e558",
   "metadata": {},
   "outputs": [
    {
     "name": "stdout",
     "output_type": "stream",
     "text": [
      "Variables included: ['age', 'sex_Male']\n",
      "Accuracy: 0.696\n",
      "Sensitivity: 0.824\n",
      "Specificity: 0.537\n"
     ]
    }
   ],
   "source": [
    "# Model 1: Only Sex and age\n",
    "from sklearn.model_selection import train_test_split\n",
    "from sklearn.linear_model import LogisticRegression\n",
    "from sklearn.metrics import (\n",
    "    accuracy_score,\n",
    "    confusion_matrix,\n",
    "    precision_score,\n",
    "    recall_score,\n",
    ")\n",
    "\n",
    "\n",
    "def run_logistic_model(\n",
    "    df, subset_variables, target=\"disease\", test_size=0.2, random_state=2000\n",
    "):\n",
    "    X = df[subset_variables]\n",
    "    y = df[target]\n",
    "\n",
    "    X_train, X_test, y_train, y_test = train_test_split(\n",
    "        X, y, test_size=test_size, random_state=random_state, stratify=y\n",
    "    )\n",
    "\n",
    "    model = LogisticRegression(max_iter=2000)\n",
    "    model.fit(X_train, y_train)\n",
    "\n",
    "    y_pred = model.predict(X_test)\n",
    "    acc = accuracy_score(y_test, y_pred)\n",
    "    cm = confusion_matrix(y_test, y_pred, labels=[0, 1])\n",
    "    TN, FP, FN, TP = cm.ravel()\n",
    "\n",
    "    sensitivity = recall_score(y_test, y_pred, zero_division=0)  # TP / (TP+FN)\n",
    "    specificity = TN / (TN + FP) if (TN + FP) > 0 else float(\"nan\")\n",
    "\n",
    "    print(\"Variables included:\", subset_variables)\n",
    "    print(\"Accuracy:\", round(acc, 3))\n",
    "    print(\"Sensitivity:\", round(sensitivity, 3))\n",
    "    print(\"Specificity:\", round(specificity, 3))\n",
    "    return {\n",
    "        \"Variables\": subset_variables,\n",
    "        \"Accuracy\": round(acc, 3),\n",
    "        \"Sensitivity\": round(sensitivity, 3),\n",
    "        \"Specificity\": round(specificity, 3),\n",
    "        \"Confusion_matrix\": cm,\n",
    "        \"Model\": model,\n",
    "        \"Feature_names\": X_train.columns.tolist(),\n",
    "    }\n",
    "\n",
    "\n",
    "heart[\"disease\"] = (heart[\"num\"] > 0).astype(int)\n",
    "\n",
    "\n",
    "def dummies_model(heart):\n",
    "    heart_d = pd.get_dummies(\n",
    "        heart, columns=[\"sex\", \"cp\", \"restecg\", \"fbs\", \"exang\"], drop_first=True\n",
    "    )\n",
    "\n",
    "    return heart_d\n",
    "\n",
    "\n",
    "heart_d = dummies_model(heart)\n",
    "\n",
    "subset_variables = [\"age\", \"sex_Male\"]\n",
    "res = run_logistic_model(heart_d, subset_variables)"
   ]
  },
  {
   "cell_type": "code",
   "execution_count": null,
   "id": "dce72fa3",
   "metadata": {},
   "outputs": [
    {
     "name": "stdout",
     "output_type": "stream",
     "text": [
      "Variables included: ['age', 'trestbps', 'chol', 'thalch', 'oldpeak', 'sex_Male', 'cp_non-anginal', 'cp_typical angina', 'restecg_normal', 'restecg_st-t abnormality', 'fbs_True', 'exang_True']\n",
      "Accuracy: 0.815\n",
      "Sensitivity: 0.824\n",
      "Specificity: 0.805\n"
     ]
    }
   ],
   "source": [
    "from sklearn.model_selection import train_test_split\n",
    "from sklearn.linear_model import LogisticRegression\n",
    "from sklearn.metrics import (\n",
    "    accuracy_score,\n",
    "    confusion_matrix,\n",
    "    precision_score,\n",
    "    recall_score,\n",
    ")\n",
    "\n",
    "subset_variables = [\n",
    "    \"age\",\n",
    "    \"trestbps\",\n",
    "    \"chol\",\n",
    "    \"thalch\",\n",
    "    \"oldpeak\",\n",
    "    \"sex_Male\",\n",
    "    \"cp_non-anginal\",\n",
    "    \"cp_typical angina\",\n",
    "    \"restecg_normal\",\n",
    "    \"restecg_st-t abnormality\",\n",
    "    \"fbs_True\",\n",
    "    \"exang_True\",\n",
    "]\n",
    "res = run_logistic_model(heart_d, subset_variables)"
   ]
  },
  {
   "cell_type": "code",
   "execution_count": null,
   "id": "cceb3c90",
   "metadata": {},
   "outputs": [
    {
     "data": {
      "image/png": "[encoded data removed]",
      "text/plain": [
       "<Figure size 600x400 with 1 Axes>"
      ]
     },
     "metadata": {},
     "output_type": "display_data"
    }
   ],
   "source": [
    "import numpy as np\n",
    "\n",
    "name_map = {\n",
    "    \"age\": \"Age\",\n",
    "    \"sex_Male\": \"Male (vs Female)\",\n",
    "    \"cp_typical angina\": \"Chest pain: Typical angina\",\n",
    "    \"cp_non-anginal\": \"Chest pain: Non-anginal\",\n",
    "    \"cp_asymptomatic\": \"Chest pain: Asymptomatic\",\n",
    "    \"restecg_normal\": \"Resting ECG: Normal\",\n",
    "    \"restecg_st-t abnormality\": \"Resting ECG: ST-T abnormality\",\n",
    "    \"fbs_True\": \"Fasting blood sugar >120\",\n",
    "    \"exang_True\": \"Exercise-induced angina\",\n",
    "    \"trestbps\": \"Resting blood pressure\",\n",
    "    \"chol\": \"Cholesterol\",\n",
    "    \"thalach\": \"Max heart rate (thalach)\",\n",
    "    \"oldpeak\": \"ST depression (oldpeak)\",\n",
    "}\n",
    "\n",
    "\n",
    "def feature_importance(result, name_map=None):\n",
    "    model = result[\"Model\"]\n",
    "    features = result[\"Feature_names\"]\n",
    "    coefs = model.coef_.flatten()\n",
    "    imp = pd.DataFrame(\n",
    "        {\n",
    "            \"Feature\": features,\n",
    "            \"Coefficient\": coefs,\n",
    "            \"Abs_Coefficient\": np.abs(coefs),\n",
    "            \"OR\": np.exp(coefs),\n",
    "        }\n",
    "    ).sort_values(\"Abs_Coefficient\", ascending=False)\n",
    "    if name_map:\n",
    "        imp[\"Feature\"] = imp[\"Feature\"].map(lambda x: name_map.get(x, x))\n",
    "    return imp\n",
    "\n",
    "\n",
    "imp_df = feature_importance(res, name_map)\n",
    "\n",
    "top = imp_df.head(10).sort_values(\"OR\", ascending=True)\n",
    "plt.figure(figsize=(6, 4))\n",
    "plt.barh(top[\"Feature\"], top[\"OR\"])\n",
    "plt.axvline(1, color=\"k\", linestyle=\"--\")\n",
    "plt.title(\"Top factors – Odds Ratios\")\n",
    "plt.xlabel(\"Odds Ratio\")\n",
    "plt.tight_layout()\n",
    "plt.savefig(\"feature_importance_or.png\", dpi=120)\n",
    "plt.show()"
   ]
  },
  {
   "cell_type": "markdown",
   "id": "978608eb",
   "metadata": {},
   "source": [
    "The second model, which incorporates more variables, shows improved accuracy, sensitivity, and specificity. Further refinement could involve applying more advanced methods for variable selection or exploring alternative ML algorithms.\n",
    "\n",
    "# Visualization\n",
    "\n",
    "Below are two examples of visualization. The first shows the distribution of age by sex. The second shows age by severity."
   ]
  },
  {
   "cell_type": "code",
   "execution_count": null,
   "id": "0c353e64",
   "metadata": {},
   "outputs": [
    {
     "data": {
      "text/plain": [
       "<Figure size 600x600 with 0 Axes>"
      ]
     },
     "metadata": {},
     "output_type": "display_data"
    },
    {
     "data": {
      "image/png": "[encoded data removed]",
      "text/plain": [
       "<Figure size 640x480 with 1 Axes>"
      ]
     },
     "metadata": {},
     "output_type": "display_data"
    }
   ],
   "source": [
    "import matplotlib.pyplot as plt\n",
    "\n",
    "# Boxplot de edad por sexo\n",
    "plt.figure(figsize=(6, 6))\n",
    "heart.boxplot(column=\"age\", by=\"sex\")\n",
    "plt.title(\"Boxplot of Age by Sex\")\n",
    "plt.suptitle(\"\")\n",
    "plt.xlabel(\"Sex\")\n",
    "plt.ylabel(\"Age\")\n",
    "plt.show()"
   ]
  },
  {
   "cell_type": "code",
   "execution_count": null,
   "id": "258d7ec9",
   "metadata": {},
   "outputs": [
    {
     "data": {
      "text/plain": [
       "<Figure size 600x600 with 0 Axes>"
      ]
     },
     "metadata": {},
     "output_type": "display_data"
    },
    {
     "data": {
      "image/png": "[encoded data removed]",
      "text/plain": [
       "<Figure size 640x480 with 1 Axes>"
      ]
     },
     "metadata": {},
     "output_type": "display_data"
    }
   ],
   "source": [
    "import matplotlib.pyplot as plt\n",
    "\n",
    "# Boxplot sex-severity\n",
    "plt.figure(figsize=(6, 6))\n",
    "heart.boxplot(column=\"age\", by=\"num\")\n",
    "plt.title(\"Boxplot of Age by Disease severity\")\n",
    "plt.suptitle(\"\")\n",
    "plt.xlabel(\"Disease severity (num)\")\n",
    "plt.ylabel(\"Age\")\n",
    "plt.show()"
   ]
  }
 ],
 "metadata": {
  "kernelspec": {
   "display_name": "base",
   "language": "python",
   "name": "python3"
  },
  "language_info": {
   "codemirror_mode": {
    "name": "ipython",
    "version": 3
   },
   "file_extension": ".py",
   "mimetype": "text/x-python",
   "name": "python",
   "nbconvert_exporter": "python",
   "pygments_lexer": "ipython3",
   "version": "3.12.11"
  }
 },
 "nbformat": 4,
 "nbformat_minor": 5
}
